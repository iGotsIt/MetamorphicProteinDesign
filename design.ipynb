{
 "cells": [
  {
   "cell_type": "code",
   "execution_count": 14,
   "metadata": {},
   "outputs": [
    {
     "name": "stderr",
     "output_type": "stream",
     "text": [
      "INFO:pyrosetta.rosetta:Found rosetta database at: /usr/local/lib/python3.8/dist-packages/pyrosetta-2022.5+release.b3365a12916-py3.8-linux-x86_64.egg/pyrosetta/database; using it....\n",
      "INFO:pyrosetta.rosetta:PyRosetta-4 2022 [Rosetta PyRosetta4.Release.python38.ubuntu 2022.05+release.b3365a12916d9c125d41cdee36639019f73be202 2022-02-03T16:09:08] retrieved from: http://www.pyrosetta.org\n",
      "(C) Copyright Rosetta Commons Member Institutions. Created in JHU by Sergey Lyskov and PyRosetta Team.\n",
      "INFO:rosetta:core.init: Checking for fconfig files in pwd and ./rosetta/flags\n",
      "INFO:rosetta:core.init: Rosetta version: PyRosetta4.Release.python38.ubuntu r310 2022.05+release.b3365a12916 b3365a12916d9c125d41cdee36639019f73be202 http://www.pyrosetta.org 2022-02-03T16:09:08\n",
      "INFO:rosetta:core.init: command: PyRosetta -ex1 -ex2aro -database /usr/local/lib/python3.8/dist-packages/pyrosetta-2022.5+release.b3365a12916-py3.8-linux-x86_64.egg/pyrosetta/database\n",
      "INFO:rosetta:basic.random.init_random_generator: 'RNG device' seed mode, using '/dev/urandom', seed=-1223375581 seed_offset=0 real_seed=-1223375581\n",
      "INFO:rosetta:basic.random.init_random_generator: RandomGenerator:init: Normal mode, seed=-1223375581 RG_type=mt19937\n"
     ]
    },
    {
     "name": "stdout",
     "output_type": "stream",
     "text": [
      "PyRosetta-4 2022 [Rosetta PyRosetta4.Release.python38.ubuntu 2022.05+release.b3365a12916d9c125d41cdee36639019f73be202 2022-02-03T16:09:08] retrieved from: http://www.pyrosetta.org\n",
      "(C) Copyright Rosetta Commons Member Institutions. Created in JHU by Sergey Lyskov and PyRosetta Team.\n"
     ]
    }
   ],
   "source": [
    "import logging\n",
    "logging.basicConfig(level=logging.INFO)\n",
    "from pyrosetta import *\n",
    "import pyrosetta.toolbox\n",
    "\n",
    "import matplotlib.pyplot as plt\n",
    "import numpy as np\n",
    "\n",
    "pyrosetta.init(\"-ex1 -ex2aro\")"
   ]
  },
  {
   "cell_type": "code",
   "execution_count": 22,
   "metadata": {},
   "outputs": [
    {
     "name": "stderr",
     "output_type": "stream",
     "text": [
      "INFO:rosetta:core.import_pose.import_pose: File 'selicase_form1.pdb' automatically determined to be of type PDB\n",
      "INFO:rosetta:core.conformation.Conformation: [ WARNING ] missing heavyatom:  OXT on residue LYS:CtermProteinFull 108\n",
      "INFO:rosetta:core.energy_methods.CartesianBondedEnergy: Initializing IdealParametersDatabase with default Ks=300 , 80 , 80 , 10 , 80\n",
      "INFO:rosetta:basic.io.database: Database file opened: scoring/score_functions/bondlength_bondangle/default-lengths.txt\n",
      "INFO:rosetta:core.energy_methods.CartesianBondedEnergy: Read 759 bb-independent lengths.\n",
      "INFO:rosetta:basic.io.database: Database file opened: scoring/score_functions/bondlength_bondangle/default-angles.txt\n",
      "INFO:rosetta:core.energy_methods.CartesianBondedEnergy: Read 1434 bb-independent angles.\n",
      "INFO:rosetta:basic.io.database: Database file opened: scoring/score_functions/bondlength_bondangle/default-torsions.txt\n",
      "INFO:rosetta:core.energy_methods.CartesianBondedEnergy: Read 1 bb-independent torsions.\n",
      "INFO:rosetta:basic.io.database: Database file opened: scoring/score_functions/bondlength_bondangle/default-improper.txt\n",
      "INFO:rosetta:core.energy_methods.CartesianBondedEnergy: Read 529 bb-independent improper tors.\n"
     ]
    }
   ],
   "source": [
    "#initialize the pose and the score function\n",
    "\n",
    "start_pose = pose_from_pdb(\"selicase_form1.pdb\")\n",
    "pose = start_pose.clone()\n",
    "scorefxn = pyrosetta.create_score_function(\"ref2015_cart.wts\")"
   ]
  },
  {
   "cell_type": "code",
   "execution_count": 23,
   "metadata": {},
   "outputs": [
    {
     "name": "stderr",
     "output_type": "stream",
     "text": [
      "INFO:rosetta:core.pack.task: Packer task: initialize from command line()\n"
     ]
    },
    {
     "name": "stdout",
     "output_type": "stream",
     "text": [
      "#Packer_Task\n",
      "\n",
      "Threads to request: ALL AVAILABLE\n",
      "\n",
      "resid\tpack?\tdesign?\tallowed_aas\n",
      "1\tTRUE\tTRUE\tALA:NtermProteinFull,ASP:NtermProteinFull,GLU:NtermProteinFull,PHE:NtermProteinFull,GLY:NtermProteinFull,HIS:NtermProteinFull,HIS_D:NtermProteinFull,ILE:NtermProteinFull,LYS:NtermProteinFull,LEU:NtermProteinFull,MET:NtermProteinFull,ASN:NtermProteinFull,PRO:NtermProteinFull,GLN:NtermProteinFull,ARG:NtermProteinFull,SER:NtermProteinFull,THR:NtermProteinFull,VAL:NtermProteinFull,TRP:NtermProteinFull,TYR:NtermProteinFull\n",
      "2\tTRUE\tTRUE\tALA,ASP,GLU,PHE,GLY,HIS,HIS_D,ILE,LYS,LEU,MET,ASN,PRO,GLN,ARG,SER,THR,VAL,TRP,TYR\n",
      "3\tTRUE\tTRUE\tALA,ASP,GLU,PHE,GLY,HIS,HIS_D,ILE,LYS,LEU,MET,ASN,PRO,GLN,ARG,SER,THR,VAL,TRP,TYR\n",
      "4\tTRUE\tTRUE\tALA,ASP,GLU,PHE,GLY,HIS,HIS_D,ILE,LYS,LEU,MET,ASN,PRO,GLN,ARG,SER,THR,VAL,TRP,TYR\n",
      "5\tTRUE\tTRUE\tALA,ASP,GLU,PHE,GLY,HIS,HIS_D,ILE,LYS,LEU,MET,ASN,PRO,GLN,ARG,SER,THR,VAL,TRP,TYR\n",
      "6\tTRUE\tTRUE\tALA,ASP,GLU,PHE,GLY,HIS,HIS_D,ILE,LYS,LEU,MET,ASN,PRO,GLN,ARG,SER,THR,VAL,TRP,TYR\n",
      "7\tTRUE\tTRUE\tALA,ASP,GLU,PHE,GLY,HIS,HIS_D,ILE,LYS,LEU,MET,ASN,PRO,GLN,ARG,SER,THR,VAL,TRP,TYR\n",
      "8\tTRUE\tTRUE\tALA,ASP,GLU,PHE,GLY,HIS,HIS_D,ILE,LYS,LEU,MET,ASN,PRO,GLN,ARG,SER,THR,VAL,TRP,TYR\n",
      "9\tTRUE\tTRUE\tALA,ASP,GLU,PHE,GLY,HIS,HIS_D,ILE,LYS,LEU,MET,ASN,PRO,GLN,ARG,SER,THR,VAL,TRP,TYR\n",
      "10\tTRUE\tTRUE\tALA,ASP,GLU,PHE,GLY,HIS,HIS_D,ILE,LYS,LEU,MET,ASN,PRO,GLN,ARG,SER,THR,VAL,TRP,TYR\n",
      "11\tTRUE\tTRUE\tALA,ASP,GLU,PHE,GLY,HIS,HIS_D,ILE,LYS,LEU,MET,ASN,PRO,GLN,ARG,SER,THR,VAL,TRP,TYR\n",
      "12\tTRUE\tTRUE\tALA,ASP,GLU,PHE,GLY,HIS,HIS_D,ILE,LYS,LEU,MET,ASN,PRO,GLN,ARG,SER,THR,VAL,TRP,TYR\n",
      "13\tTRUE\tTRUE\tALA,ASP,GLU,PHE,GLY,HIS,HIS_D,ILE,LYS,LEU,MET,ASN,PRO,GLN,ARG,SER,THR,VAL,TRP,TYR\n",
      "14\tTRUE\tTRUE\tALA,ASP,GLU,PHE,GLY,HIS,HIS_D,ILE,LYS,LEU,MET,ASN,PRO,GLN,ARG,SER,THR,VAL,TRP,TYR\n",
      "15\tTRUE\tTRUE\tALA,ASP,GLU,PHE,GLY,HIS,HIS_D,ILE,LYS,LEU,MET,ASN,PRO,GLN,ARG,SER,THR,VAL,TRP,TYR\n",
      "16\tTRUE\tTRUE\tALA,ASP,GLU,PHE,GLY,HIS,HIS_D,ILE,LYS,LEU,MET,ASN,PRO,GLN,ARG,SER,THR,VAL,TRP,TYR\n",
      "17\tTRUE\tTRUE\tALA,ASP,GLU,PHE,GLY,HIS,HIS_D,ILE,LYS,LEU,MET,ASN,PRO,GLN,ARG,SER,THR,VAL,TRP,TYR\n",
      "18\tTRUE\tTRUE\tALA,ASP,GLU,PHE,GLY,HIS,HIS_D,ILE,LYS,LEU,MET,ASN,PRO,GLN,ARG,SER,THR,VAL,TRP,TYR\n",
      "19\tTRUE\tFALSE\tLEU\n",
      "20\tTRUE\tFALSE\tASN\n",
      "21\tTRUE\tFALSE\tASP\n",
      "22\tTRUE\tFALSE\tLYS\n",
      "23\tTRUE\tFALSE\tLYS\n",
      "24\tTRUE\tFALSE\tALA\n",
      "25\tTRUE\tFALSE\tASN\n",
      "26\tTRUE\tFALSE\tILE\n",
      "27\tTRUE\tFALSE\tLYS\n",
      "28\tTRUE\tFALSE\tILE\n",
      "29\tTRUE\tFALSE\tLYS\n",
      "30\tTRUE\tFALSE\tILE\n",
      "31\tTRUE\tFALSE\tLYS\n",
      "32\tTRUE\tFALSE\tPRO\n",
      "33\tTRUE\tFALSE\tLEU\n",
      "34\tTRUE\tFALSE\tLYS\n",
      "35\tTRUE\tFALSE\tARG\n",
      "36\tTRUE\tFALSE\tLYS\n",
      "37\tTRUE\tFALSE\tILE\n",
      "38\tTRUE\tFALSE\tALA\n",
      "39\tTRUE\tFALSE\tSER\n",
      "40\tTRUE\tFALSE\tILE\n",
      "41\tTRUE\tFALSE\tSER\n",
      "42\tTRUE\tFALSE\tLEU\n",
      "43\tTRUE\tFALSE\tTHR\n",
      "44\tTRUE\tFALSE\tASN\n",
      "45\tTRUE\tFALSE\tLYS\n",
      "46\tTRUE\tFALSE\tTHR\n",
      "47\tTRUE\tFALSE\tILE\n",
      "48\tTRUE\tFALSE\tTYR\n",
      "49\tTRUE\tFALSE\tILE\n",
      "50\tTRUE\tFALSE\tASN\n",
      "51\tTRUE\tFALSE\tLYS\n",
      "52\tTRUE\tFALSE\tASN\n",
      "53\tTRUE\tFALSE\tILE\n",
      "54\tTRUE\tFALSE\tLEU\n",
      "55\tTRUE\tFALSE\tPRO\n",
      "56\tTRUE\tFALSE\tTYR\n",
      "57\tTRUE\tFALSE\tLEU\n",
      "58\tTRUE\tFALSE\tSER\n",
      "59\tTRUE\tFALSE\tASP\n",
      "60\tTRUE\tFALSE\tGLU\n",
      "61\tTRUE\tFALSE\tGLU\n",
      "62\tTRUE\tFALSE\tILE\n",
      "63\tTRUE\tFALSE\tARG\n",
      "64\tTRUE\tFALSE\tPHE\n",
      "65\tTRUE\tFALSE\tILE\n",
      "66\tTRUE\tFALSE\tLEU\n",
      "67\tTRUE\tFALSE\tALA\n",
      "68\tTRUE\tFALSE\tHIS,HIS_D\n",
      "69\tTRUE\tFALSE\tGLU\n",
      "70\tTRUE\tFALSE\tLEU\n",
      "71\tTRUE\tFALSE\tLEU\n",
      "72\tTRUE\tFALSE\tHIS,HIS_D\n",
      "73\tTRUE\tFALSE\tLEU\n",
      "74\tTRUE\tFALSE\tLYS\n",
      "75\tTRUE\tFALSE\tTYR\n",
      "76\tTRUE\tFALSE\tGLY\n",
      "77\tTRUE\tFALSE\tLYS\n",
      "78\tTRUE\tFALSE\tTYR\n",
      "79\tTRUE\tFALSE\tHIS,HIS_D\n",
      "80\tTRUE\tFALSE\tILE\n",
      "81\tTRUE\tFALSE\tASN\n",
      "82\tTRUE\tFALSE\tGLU\n",
      "83\tTRUE\tFALSE\tPHE\n",
      "84\tTRUE\tFALSE\tGLU\n",
      "85\tTRUE\tFALSE\tGLU\n",
      "86\tTRUE\tFALSE\tGLU\n",
      "87\tTRUE\tFALSE\tLEU\n",
      "88\tTRUE\tFALSE\tLEU\n",
      "89\tTRUE\tFALSE\tPHE\n",
      "90\tTRUE\tFALSE\tLEU\n",
      "91\tTRUE\tFALSE\tPHE\n",
      "92\tTRUE\tFALSE\tPRO\n",
      "93\tTRUE\tFALSE\tASN\n",
      "94\tTRUE\tFALSE\tLYS\n",
      "95\tTRUE\tFALSE\tGLU\n",
      "96\tTRUE\tFALSE\tALA\n",
      "97\tTRUE\tFALSE\tILE\n",
      "98\tTRUE\tFALSE\tLEU\n",
      "99\tTRUE\tFALSE\tILE\n",
      "100\tTRUE\tFALSE\tASN\n",
      "101\tTRUE\tFALSE\tLEU\n",
      "102\tTRUE\tFALSE\tILE\n",
      "103\tTRUE\tFALSE\tASN\n",
      "104\tTRUE\tFALSE\tLYS\n",
      "105\tTRUE\tFALSE\tLEU\n",
      "106\tTRUE\tFALSE\tHIS,HIS_D\n",
      "107\tTRUE\tFALSE\tGLN\n",
      "108\tTRUE\tFALSE\tLYS:CtermProteinFull\n",
      "\n"
     ]
    }
   ],
   "source": [
    "#create task factory for FastDesign\n",
    "#resfile is included\n",
    "tf = pyrosetta.rosetta.core.pack.task.TaskFactory()\n",
    "\n",
    "# These are pretty standard\n",
    "tf.push_back(pyrosetta.rosetta.core.pack.task.operation.InitializeFromCommandline())\n",
    "tf.push_back(pyrosetta.rosetta.core.pack.task.operation.IncludeCurrent())\n",
    "tf.push_back(pyrosetta.rosetta.core.pack.task.operation.NoRepackDisulfides())\n",
    "\n",
    "# Include the resfile\n",
    "tf.push_back(pyrosetta.rosetta.core.pack.task.operation.ReadResfile(\"resfile\"))\n",
    "\n",
    "# Convert the task factory into a PackerTask to take a look at it\n",
    "packer_task = tf.create_task_and_apply_taskoperations(pose)\n",
    "# View the PackerTask\n",
    "print(packer_task)"
   ]
  },
  {
   "cell_type": "code",
   "execution_count": 24,
   "metadata": {},
   "outputs": [],
   "source": [
    "# Set up a MoveMapFactory\n",
    "mmf = pyrosetta.rosetta.core.select.movemap.MoveMapFactory()\n",
    "mmf.all_bb(setting=True) #allowing all movements\n",
    "mmf.all_bondangles(setting=True)\n",
    "mmf.all_bondlengths(setting=True)\n",
    "mmf.all_chi(setting=True)\n",
    "mmf.all_jumps(setting=True)\n",
    "mmf.set_cartesian(setting=True)"
   ]
  },
  {
   "cell_type": "code",
   "execution_count": 25,
   "metadata": {},
   "outputs": [],
   "source": [
    "#set up the fast relax movcer\n",
    "fr = pyrosetta.rosetta.protocols.relax.FastRelax(scorefxn_in=scorefxn, standard_repeats=1)\n",
    "fr.cartesian(True)\n",
    "fr.set_task_factory(tf)\n",
    "fr.set_movemap_factory(mmf)\n",
    "fr.min_type(\"lbfgs_armijo_nonmonotone\")"
   ]
  },
  {
   "cell_type": "code",
   "execution_count": 26,
   "metadata": {},
   "outputs": [
    {
     "name": "stderr",
     "output_type": "stream",
     "text": [
      "INFO:rosetta:core.energy_methods.CartesianBondedEnergy: Creating new peptide-bonded energy container (108)\n",
      "INFO:rosetta:protocols.relax.FastRelax: CMD: repeat  -100.161  0  0  0.55\n",
      "INFO:rosetta:protocols.relax.FastRelax: CMD: coord_cst_weight  -100.161  0  0  0.55\n",
      "INFO:rosetta:protocols.relax.FastRelax: CMD: scale:fa_rep  -139.914  0  0  0.022\n",
      "INFO:rosetta:core.pack.task: Packer task: initialize from command line()\n",
      "INFO:rosetta:core.pack.pack_rotamers: built 8191 rotamers at 108 positions.\n",
      "INFO:rosetta:core.pack.interaction_graph.interaction_graph_factory: Instantiating PDInteractionGraph\n",
      "INFO:rosetta:core.energy_methods.CartesianBondedEnergy: Adding undefined angle PRO: CD,N,1H to DB with theta0 = 0 , Ktheta = 0\n",
      "INFO:rosetta:core.energy_methods.CartesianBondedEnergy: Adding undefined angle PRO: CD,N,2H to DB with theta0 = 0 , Ktheta = 0\n",
      "INFO:rosetta:protocols.relax.FastRelax: CMD: repack  -574.118  0  0  0.022\n",
      "INFO:rosetta:protocols.relax.FastRelax: CMD: scale:fa_rep  -567.589  0  0  0.02805\n",
      "INFO:rosetta:protocols.relax.FastRelax: CMD: min  -1050.6  2.58966  2.58966  0.02805\n",
      "INFO:rosetta:protocols.relax.FastRelax: CMD: coord_cst_weight  -1050.6  2.58966  2.58966  0.02805\n",
      "INFO:rosetta:protocols.relax.FastRelax: CMD: scale:fa_rep  -584.947  2.58966  2.58966  0.14575\n",
      "INFO:rosetta:core.pack.task: Packer task: initialize from command line()\n",
      "INFO:rosetta:core.pack.pack_rotamers: built 10334 rotamers at 108 positions.\n",
      "INFO:rosetta:core.pack.interaction_graph.interaction_graph_factory: Instantiating PDInteractionGraph\n",
      "INFO:rosetta:protocols.relax.FastRelax: CMD: repack  -623.967  2.58966  2.58966  0.14575\n",
      "INFO:rosetta:protocols.relax.FastRelax: CMD: scale:fa_rep  -600.282  2.58966  2.58966  0.154\n",
      "INFO:rosetta:protocols.relax.FastRelax: CMD: min  -883.788  2.4982  2.4982  0.154\n",
      "INFO:rosetta:protocols.relax.FastRelax: CMD: coord_cst_weight  -883.788  2.4982  2.4982  0.154\n",
      "INFO:rosetta:protocols.relax.FastRelax: CMD: scale:fa_rep  -778.421  2.4982  2.4982  0.30745\n",
      "INFO:rosetta:core.pack.task: Packer task: initialize from command line()\n",
      "INFO:rosetta:core.pack.pack_rotamers: built 9359 rotamers at 108 positions.\n",
      "INFO:rosetta:core.pack.interaction_graph.interaction_graph_factory: Instantiating PDInteractionGraph\n",
      "INFO:rosetta:protocols.relax.FastRelax: CMD: repack  -781.054  2.4982  2.4982  0.30745\n",
      "INFO:rosetta:protocols.relax.FastRelax: CMD: scale:fa_rep  -772.561  2.4982  2.4982  0.31955\n",
      "INFO:rosetta:protocols.relax.FastRelax: CMD: min  -816.309  2.40962  2.40962  0.31955\n",
      "INFO:rosetta:protocols.relax.FastRelax: CMD: coord_cst_weight  -816.309  2.40962  2.40962  0.31955\n",
      "INFO:rosetta:protocols.relax.FastRelax: CMD: scale:fa_rep  -737.143  2.40962  2.40962  0.55\n",
      "INFO:rosetta:core.pack.task: Packer task: initialize from command line()\n",
      "INFO:rosetta:core.pack.pack_rotamers: built 8446 rotamers at 108 positions.\n",
      "INFO:rosetta:core.pack.interaction_graph.interaction_graph_factory: Instantiating PDInteractionGraph\n",
      "INFO:rosetta:protocols.relax.FastRelax: CMD: repack  -735.624  2.40962  2.40962  0.55\n",
      "INFO:rosetta:protocols.relax.FastRelax: CMD: min  -765.513  2.44554  2.44554  0.55\n",
      "INFO:rosetta:protocols.relax.FastRelax: MRP: 0  -765.513  -765.513  2.44554  2.44554\n",
      "INFO:rosetta:protocols.relax.FastRelax: CMD: accept_to_best  -765.513  2.44554  2.44554  0.55\n",
      "INFO:rosetta:protocols.relax.FastRelax: CMD: endrepeat  -765.513  2.44554  2.44554  0.55\n",
      "INFO:rosetta:protocols::checkpoint: Deleting checkpoints of FastRelax\n"
     ]
    },
    {
     "name": "stdout",
     "output_type": "stream",
     "text": [
      "CPU times: user 7min 14s, sys: 2.41 s, total: 7min 16s\n",
      "Wall time: 7min 26s\n"
     ]
    }
   ],
   "source": [
    "### BEGIN SOLUTION\n",
    "#apply fast relax\n",
    "%time fr.apply(pose)"
   ]
  },
  {
   "cell_type": "code",
   "execution_count": 29,
   "metadata": {},
   "outputs": [
    {
     "data": {
      "text/plain": [
       "True"
      ]
     },
     "execution_count": 29,
     "metadata": {},
     "output_type": "execute_result"
    }
   ],
   "source": [
    "#score the designed pose and dump the pdb\n",
    "scorefxn(pose)\n",
    "pose.dump_pdb(\"mutaselecase1.pdb\")"
   ]
  },
  {
   "cell_type": "code",
   "execution_count": 30,
   "metadata": {},
   "outputs": [
    {
     "data": {
      "text/plain": [
       "'FEEEEDRKRHEEKKKEMKLNDKKANIKIKIKPLKRKIASISLTNKTIYINKNILPYLSDEEIRFILAHELLHLKYGKYHINEFEEELLFLFPNKEAILINLINKLHQK'"
      ]
     },
     "execution_count": 30,
     "metadata": {},
     "output_type": "execute_result"
    }
   ],
   "source": [
    "#get the new sequence to put into alphafold\n",
    "pose.sequence()"
   ]
  },
  {
   "cell_type": "code",
   "execution_count": 33,
   "metadata": {},
   "outputs": [
    {
     "name": "stderr",
     "output_type": "stream",
     "text": [
      "INFO:rosetta:core.import_pose.import_pose: File 'test_8d3d8_unrelaxed_rank_1_model_5.pdb' automatically determined to be of type PDB\n",
      "INFO:rosetta:core.conformation.Conformation: [ WARNING ] missing heavyatom:  OXT on residue LYS:CtermProteinFull 108\n",
      "INFO:rosetta:core.energy_methods.CartesianBondedEnergy: Creating new peptide-bonded energy container (108)\n"
     ]
    },
    {
     "data": {
      "text/plain": [
       "581.9679398064809"
      ]
     },
     "execution_count": 33,
     "metadata": {},
     "output_type": "execute_result"
    }
   ],
   "source": [
    "#score the alphafold pose with the same structure\n",
    "pose2 = pose_from_pdb(\"test_8d3d8_unrelaxed_rank_1_model_5.pdb\")\n",
    "scorefxn(pose2)"
   ]
  }
 ],
 "metadata": {
  "interpreter": {
   "hash": "31f2aee4e71d21fbe5cf8b01ff0e069b9275f58929596ceb00d14d90e3e16cd6"
  },
  "kernelspec": {
   "display_name": "Python 3.8.10 64-bit",
   "language": "python",
   "name": "python3"
  },
  "language_info": {
   "codemirror_mode": {
    "name": "ipython",
    "version": 3
   },
   "file_extension": ".py",
   "mimetype": "text/x-python",
   "name": "python",
   "nbconvert_exporter": "python",
   "pygments_lexer": "ipython3",
   "version": "3.8.10"
  },
  "orig_nbformat": 4
 },
 "nbformat": 4,
 "nbformat_minor": 2
}
